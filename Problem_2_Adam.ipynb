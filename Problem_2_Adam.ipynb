{
  "cells": [
    {
      "cell_type": "markdown",
      "source": [
        "# **Imports:**"
      ],
      "metadata": {
        "id": "yQlDoRJxmvlu"
      },
      "id": "yQlDoRJxmvlu"
    },
    {
      "cell_type": "code",
      "source": [
        "import torchvision as tv\n",
        "from torch.utils.data import DataLoader\n",
        "import torch.utils.data\n",
        "import random\n",
        "import numpy as np\n",
        "import torchvision.transforms as transforms\n",
        "from numpy import linalg as la\n",
        "import torch.nn as nn\n"
      ],
      "metadata": {
        "id": "BJs-honwm31a"
      },
      "id": "BJs-honwm31a",
      "execution_count": 10,
      "outputs": []
    },
    {
      "cell_type": "markdown",
      "source": [
        "# **Neural Network Class:**"
      ],
      "metadata": {
        "id": "Z2ZFE_nzm60Z"
      },
      "id": "Z2ZFE_nzm60Z"
    },
    {
      "cell_type": "code",
      "source": [
        "\n",
        "class Network(nn.Module):\n",
        "    def __init__(self, input_size,num_classes,dropout):\n",
        "        super(Network,self).__init__()\n",
        "        self.fc1 = nn.Linear(input_size, num_classes)\n",
        "        self.dropout = nn.Dropout(dropout)\n",
        "        self.relu = nn.ReLU()\n",
        "        self.softmax = nn.LogSoftmax(dim=1)\n",
        "\n",
        "    def forward(self,x):\n",
        "        out = self.dropout(x)\n",
        "        out = self.fc1(out)\n",
        "        out = self.relu(out)\n",
        "        out = self.softmax(out)\n",
        "        return out"
      ],
      "metadata": {
        "id": "Qmdt1ErinHJZ"
      },
      "id": "Qmdt1ErinHJZ",
      "execution_count": 11,
      "outputs": []
    },
    {
      "cell_type": "markdown",
      "source": [
        "# **Training and Validation Process:**"
      ],
      "metadata": {
        "id": "g23H0MHanYpt"
      },
      "id": "g23H0MHanYpt"
    },
    {
      "cell_type": "code",
      "execution_count": 12,
      "metadata": {
        "id": "Qh6TJnGCmk5a",
        "colab": {
          "base_uri": "https://localhost:8080/"
        },
        "outputId": "b56e837d-d34f-46b9-ed89-bc5fc7021f39"
      },
      "outputs": [
        {
          "output_type": "stream",
          "name": "stdout",
          "text": [
            "Epoch:  1\n",
            "Train Accuracy: 63.06666666666667\n",
            "Test Accuracy: 83.67999999999999\n",
            "Epoch:  2\n",
            "Train Accuracy: 83.2\n",
            "Test Accuracy: 85.84\n",
            "Epoch:  3\n",
            "Train Accuracy: 85.47333333333333\n",
            "Test Accuracy: 87.6\n",
            "Epoch:  4\n",
            "Train Accuracy: 86.82333333333332\n",
            "Test Accuracy: 88.52\n",
            "Epoch:  5\n",
            "Train Accuracy: 87.51666666666667\n",
            "Test Accuracy: 89.42\n",
            "Epoch:  6\n",
            "Train Accuracy: 87.91333333333333\n",
            "Test Accuracy: 89.64\n",
            "Epoch:  7\n",
            "Train Accuracy: 88.53999999999999\n",
            "Test Accuracy: 90.24\n",
            "Epoch:  8\n",
            "Train Accuracy: 88.75666666666666\n",
            "Test Accuracy: 90.53999999999999\n",
            "Epoch:  9\n",
            "Train Accuracy: 89.08\n",
            "Test Accuracy: 90.64\n",
            "Epoch:  10\n",
            "Train Accuracy: 89.26666666666667\n",
            "Test Accuracy: 90.78\n",
            "Epoch:  11\n",
            "Train Accuracy: 89.57000000000001\n",
            "Test Accuracy: 90.92\n",
            "Epoch:  12\n",
            "Train Accuracy: 89.55333333333333\n",
            "Test Accuracy: 91.03999999999999\n",
            "Epoch:  13\n",
            "Train Accuracy: 89.70333333333333\n",
            "Test Accuracy: 91.06\n",
            "Epoch:  14\n",
            "Train Accuracy: 89.67333333333333\n",
            "Test Accuracy: 91.24\n",
            "Epoch:  15\n",
            "Train Accuracy: 89.9\n",
            "Test Accuracy: 91.34\n",
            "Epoch:  16\n",
            "Train Accuracy: 90.03666666666666\n",
            "Test Accuracy: 91.64\n",
            "Epoch:  17\n",
            "Train Accuracy: 90.02333333333333\n",
            "Test Accuracy: 91.62\n",
            "Epoch:  18\n",
            "Train Accuracy: 90.29333333333334\n",
            "Test Accuracy: 91.78\n",
            "Epoch:  19\n",
            "Train Accuracy: 90.28\n",
            "Test Accuracy: 91.74\n",
            "Epoch:  20\n",
            "Train Accuracy: 90.23333333333333\n",
            "Test Accuracy: 91.74\n",
            "Epoch:  21\n",
            "Train Accuracy: 90.42333333333333\n",
            "Test Accuracy: 91.96\n",
            "Epoch:  22\n",
            "Train Accuracy: 90.25\n",
            "Test Accuracy: 91.94\n",
            "Epoch:  23\n",
            "Train Accuracy: 90.63666666666667\n",
            "Test Accuracy: 91.92\n",
            "Epoch:  24\n",
            "Train Accuracy: 90.52666666666667\n",
            "Test Accuracy: 92.06\n",
            "Epoch:  25\n",
            "Train Accuracy: 90.64333333333333\n",
            "Test Accuracy: 91.94\n",
            "Epoch:  26\n",
            "Train Accuracy: 90.53333333333333\n",
            "Test Accuracy: 92.12\n",
            "Epoch:  27\n",
            "Train Accuracy: 90.82666666666667\n",
            "Test Accuracy: 91.94\n",
            "Epoch:  28\n",
            "Train Accuracy: 90.73\n",
            "Test Accuracy: 92.12\n",
            "Epoch:  29\n",
            "Train Accuracy: 90.89\n",
            "Test Accuracy: 92.06\n",
            "Epoch:  30\n",
            "Train Accuracy: 90.81\n",
            "Test Accuracy: 92.12\n",
            "Epoch:  31\n",
            "Train Accuracy: 90.77666666666667\n",
            "Test Accuracy: 92.10000000000001\n",
            "Epoch:  32\n",
            "Train Accuracy: 91.03999999999999\n",
            "Test Accuracy: 92.12\n",
            "Epoch:  33\n",
            "Train Accuracy: 90.75\n",
            "Test Accuracy: 92.10000000000001\n",
            "Epoch:  34\n",
            "Train Accuracy: 90.75666666666666\n",
            "Test Accuracy: 92.04\n",
            "Epoch:  35\n",
            "Train Accuracy: 91.03\n",
            "Test Accuracy: 92.17999999999999\n",
            "Epoch:  36\n",
            "Train Accuracy: 90.99333333333334\n",
            "Test Accuracy: 92.14\n",
            "Epoch:  37\n",
            "Train Accuracy: 91.07666666666667\n",
            "Test Accuracy: 92.16\n",
            "Epoch:  38\n",
            "Train Accuracy: 91.03\n",
            "Test Accuracy: 92.17999999999999\n",
            "Epoch:  39\n",
            "Train Accuracy: 91.09333333333333\n",
            "Test Accuracy: 92.12\n",
            "Epoch:  40\n",
            "Train Accuracy: 91.11666666666667\n",
            "Test Accuracy: 92.30000000000001\n",
            "Epoch:  41\n",
            "Train Accuracy: 91.23\n",
            "Test Accuracy: 92.38\n",
            "Epoch:  42\n",
            "Train Accuracy: 91.05333333333333\n",
            "Test Accuracy: 92.25999999999999\n",
            "Epoch:  43\n",
            "Train Accuracy: 91.05\n",
            "Test Accuracy: 92.44\n",
            "Epoch:  44\n",
            "Train Accuracy: 91.16666666666666\n",
            "Test Accuracy: 92.47999999999999\n",
            "Epoch:  45\n",
            "Train Accuracy: 91.19666666666667\n",
            "Test Accuracy: 92.47999999999999\n",
            "Epoch:  46\n",
            "Train Accuracy: 91.03\n",
            "Test Accuracy: 92.42\n",
            "Epoch:  47\n",
            "Train Accuracy: 91.25\n",
            "Test Accuracy: 92.38\n",
            "Epoch:  48\n",
            "Train Accuracy: 91.18666666666667\n",
            "Test Accuracy: 92.44\n",
            "Epoch:  49\n",
            "Train Accuracy: 91.34666666666666\n",
            "Test Accuracy: 92.42\n",
            "Epoch:  50\n",
            "Train Accuracy: 91.16\n",
            "Test Accuracy: 92.47999999999999\n",
            "Epoch:  51\n",
            "Train Accuracy: 91.32666666666667\n",
            "Test Accuracy: 92.54\n",
            "Epoch:  52\n",
            "Train Accuracy: 91.22666666666667\n",
            "Test Accuracy: 92.58\n",
            "Epoch:  53\n",
            "Train Accuracy: 91.27\n",
            "Test Accuracy: 92.44\n",
            "Epoch:  54\n",
            "Train Accuracy: 91.25333333333333\n",
            "Test Accuracy: 92.58\n",
            "Epoch:  55\n",
            "Train Accuracy: 91.22\n",
            "Test Accuracy: 92.47999999999999\n",
            "Epoch:  56\n",
            "Train Accuracy: 91.28666666666668\n",
            "Test Accuracy: 92.52\n",
            "Epoch:  57\n",
            "Train Accuracy: 91.53666666666666\n",
            "Test Accuracy: 92.56\n",
            "Epoch:  58\n",
            "Train Accuracy: 91.28333333333333\n",
            "Test Accuracy: 92.54\n",
            "Epoch:  59\n",
            "Train Accuracy: 91.34666666666666\n",
            "Test Accuracy: 92.62\n",
            "Epoch:  60\n",
            "Train Accuracy: 91.35666666666667\n",
            "Test Accuracy: 92.52\n",
            "Epoch:  61\n",
            "Train Accuracy: 91.42333333333333\n",
            "Test Accuracy: 92.54\n",
            "Epoch:  62\n",
            "Train Accuracy: 91.32000000000001\n",
            "Test Accuracy: 92.44\n",
            "Epoch:  63\n",
            "Train Accuracy: 91.31333333333333\n",
            "Test Accuracy: 92.54\n",
            "Epoch:  64\n",
            "Train Accuracy: 91.30333333333334\n",
            "Test Accuracy: 92.58\n",
            "Epoch:  65\n",
            "Train Accuracy: 91.50666666666667\n",
            "Test Accuracy: 92.56\n",
            "Epoch:  66\n",
            "Train Accuracy: 91.33333333333333\n",
            "Test Accuracy: 92.54\n",
            "Epoch:  67\n",
            "Train Accuracy: 91.32000000000001\n",
            "Test Accuracy: 92.4\n",
            "Epoch:  68\n",
            "Train Accuracy: 91.32000000000001\n",
            "Test Accuracy: 92.36\n",
            "Epoch:  69\n",
            "Train Accuracy: 91.43333333333334\n",
            "Test Accuracy: 92.42\n",
            "Epoch:  70\n",
            "Train Accuracy: 91.49000000000001\n",
            "Test Accuracy: 92.60000000000001\n",
            "Epoch:  71\n",
            "Train Accuracy: 91.52333333333334\n",
            "Test Accuracy: 92.47999999999999\n",
            "Epoch:  72\n",
            "Train Accuracy: 91.39\n",
            "Test Accuracy: 92.54\n",
            "Epoch:  73\n",
            "Train Accuracy: 91.53333333333333\n",
            "Test Accuracy: 92.5\n",
            "Epoch:  74\n",
            "Train Accuracy: 91.32000000000001\n",
            "Test Accuracy: 92.62\n",
            "Epoch:  75\n",
            "Train Accuracy: 91.45666666666666\n",
            "Test Accuracy: 92.52\n",
            "Epoch:  76\n",
            "Train Accuracy: 91.38\n",
            "Test Accuracy: 92.52\n",
            "Epoch:  77\n",
            "Train Accuracy: 91.42333333333333\n",
            "Test Accuracy: 92.47999999999999\n",
            "Epoch:  78\n",
            "Train Accuracy: 91.45333333333333\n",
            "Test Accuracy: 92.58\n",
            "Epoch:  79\n",
            "Train Accuracy: 91.61\n",
            "Test Accuracy: 92.52\n",
            "Epoch:  80\n",
            "Train Accuracy: 91.67999999999999\n",
            "Test Accuracy: 92.67999999999999\n",
            "Epoch:  81\n",
            "Train Accuracy: 91.53666666666666\n",
            "Test Accuracy: 92.56\n",
            "Epoch:  82\n",
            "Train Accuracy: 91.60666666666667\n",
            "Test Accuracy: 92.58\n",
            "Epoch:  83\n",
            "Train Accuracy: 91.49000000000001\n",
            "Test Accuracy: 92.47999999999999\n",
            "Epoch:  84\n",
            "Train Accuracy: 91.44666666666666\n",
            "Test Accuracy: 92.52\n",
            "Epoch:  85\n",
            "Train Accuracy: 91.58333333333334\n",
            "Test Accuracy: 92.56\n",
            "Epoch:  86\n",
            "Train Accuracy: 91.70666666666666\n",
            "Test Accuracy: 92.58\n",
            "Epoch:  87\n",
            "Train Accuracy: 91.45\n",
            "Test Accuracy: 92.56\n",
            "Epoch:  88\n",
            "Train Accuracy: 91.45666666666666\n",
            "Test Accuracy: 92.54\n",
            "Epoch:  89\n",
            "Train Accuracy: 91.64666666666666\n",
            "Test Accuracy: 92.46\n",
            "Epoch:  90\n",
            "Train Accuracy: 91.73\n",
            "Test Accuracy: 92.75999999999999\n",
            "Epoch:  91\n",
            "Train Accuracy: 91.64666666666666\n",
            "Test Accuracy: 92.52\n",
            "Epoch:  92\n",
            "Train Accuracy: 91.67333333333333\n",
            "Test Accuracy: 92.47999999999999\n",
            "Epoch:  93\n",
            "Train Accuracy: 91.47666666666666\n",
            "Test Accuracy: 92.54\n",
            "Epoch:  94\n",
            "Train Accuracy: 91.78\n",
            "Test Accuracy: 92.58\n",
            "Epoch:  95\n",
            "Train Accuracy: 91.62666666666667\n",
            "Test Accuracy: 92.60000000000001\n",
            "Epoch:  96\n",
            "Train Accuracy: 91.59666666666666\n",
            "Test Accuracy: 92.60000000000001\n",
            "Epoch:  97\n",
            "Train Accuracy: 91.62666666666667\n",
            "Test Accuracy: 92.54\n",
            "Epoch:  98\n",
            "Train Accuracy: 91.69\n",
            "Test Accuracy: 92.5\n",
            "Epoch:  99\n",
            "Train Accuracy: 91.46666666666667\n",
            "Test Accuracy: 92.5\n",
            "Epoch:  100\n",
            "Train Accuracy: 91.62333333333333\n",
            "Test Accuracy: 92.64\n",
            "Epoch:  101\n",
            "Train Accuracy: 91.64999999999999\n",
            "Test Accuracy: 92.66\n",
            "Epoch:  102\n",
            "Train Accuracy: 91.59333333333333\n",
            "Test Accuracy: 92.60000000000001\n",
            "Epoch:  103\n",
            "Train Accuracy: 91.80333333333334\n",
            "Test Accuracy: 92.54\n",
            "Epoch:  104\n",
            "Train Accuracy: 91.76333333333334\n",
            "Test Accuracy: 92.7\n",
            "Epoch:  105\n",
            "Train Accuracy: 91.83\n",
            "Test Accuracy: 92.54\n",
            "Epoch:  106\n",
            "Train Accuracy: 91.68333333333332\n",
            "Test Accuracy: 92.47999999999999\n",
            "Epoch:  107\n",
            "Train Accuracy: 91.73333333333333\n",
            "Test Accuracy: 92.52\n",
            "Epoch:  108\n",
            "Train Accuracy: 91.53\n",
            "Test Accuracy: 92.47999999999999\n",
            "Epoch:  109\n",
            "Train Accuracy: 91.89333333333335\n",
            "Test Accuracy: 92.58\n",
            "Epoch:  110\n",
            "Train Accuracy: 91.76666666666667\n",
            "Test Accuracy: 92.66\n",
            "Epoch:  111\n",
            "Train Accuracy: 91.78666666666668\n",
            "Test Accuracy: 92.64\n",
            "Epoch:  112\n",
            "Train Accuracy: 91.74333333333334\n",
            "Test Accuracy: 92.67999999999999\n",
            "Epoch:  113\n",
            "Train Accuracy: 91.77666666666666\n",
            "Test Accuracy: 92.62\n",
            "Epoch:  114\n",
            "Train Accuracy: 91.84\n",
            "Test Accuracy: 92.58\n",
            "Epoch:  115\n",
            "Train Accuracy: 91.97333333333333\n",
            "Test Accuracy: 92.54\n",
            "Epoch:  116\n",
            "Train Accuracy: 91.62666666666667\n",
            "Test Accuracy: 92.52\n",
            "Epoch:  117\n",
            "Train Accuracy: 91.61\n",
            "Test Accuracy: 92.60000000000001\n",
            "Epoch:  118\n",
            "Train Accuracy: 91.67666666666666\n",
            "Test Accuracy: 92.64\n",
            "Epoch:  119\n",
            "Train Accuracy: 91.78\n",
            "Test Accuracy: 92.56\n",
            "Epoch:  120\n",
            "Train Accuracy: 91.75\n",
            "Test Accuracy: 92.72\n",
            "Epoch:  121\n",
            "Train Accuracy: 91.68666666666667\n",
            "Test Accuracy: 92.64\n",
            "Epoch:  122\n",
            "Train Accuracy: 91.94666666666666\n",
            "Test Accuracy: 92.75999999999999\n",
            "Epoch:  123\n",
            "Train Accuracy: 91.64666666666666\n",
            "Test Accuracy: 92.67999999999999\n",
            "Epoch:  124\n",
            "Train Accuracy: 91.75666666666666\n",
            "Test Accuracy: 92.67999999999999\n",
            "Epoch:  125\n",
            "Train Accuracy: 91.53666666666666\n",
            "Test Accuracy: 92.67999999999999\n",
            "Epoch:  126\n",
            "Train Accuracy: 91.77\n",
            "Test Accuracy: 92.67999999999999\n",
            "Epoch:  127\n",
            "Train Accuracy: 91.94333333333333\n",
            "Test Accuracy: 92.66\n",
            "Epoch:  128\n",
            "Train Accuracy: 91.81666666666666\n",
            "Test Accuracy: 92.64\n",
            "Epoch:  129\n",
            "Train Accuracy: 91.64\n",
            "Test Accuracy: 92.7\n",
            "Epoch:  130\n",
            "Train Accuracy: 91.66666666666666\n",
            "Test Accuracy: 92.67999999999999\n",
            "Epoch:  131\n",
            "Train Accuracy: 91.78333333333333\n",
            "Test Accuracy: 92.64\n",
            "Epoch:  132\n",
            "Train Accuracy: 91.69666666666667\n",
            "Test Accuracy: 92.58\n",
            "Epoch:  133\n",
            "Train Accuracy: 91.87333333333333\n",
            "Test Accuracy: 92.66\n",
            "Epoch:  134\n",
            "Train Accuracy: 91.82333333333334\n",
            "Test Accuracy: 92.64\n",
            "Epoch:  135\n",
            "Train Accuracy: 91.68333333333332\n",
            "Test Accuracy: 92.67999999999999\n",
            "Epoch:  136\n",
            "Train Accuracy: 91.82666666666667\n",
            "Test Accuracy: 92.7\n",
            "Epoch:  137\n",
            "Train Accuracy: 91.82666666666667\n",
            "Test Accuracy: 92.66\n",
            "Epoch:  138\n",
            "Train Accuracy: 91.84666666666666\n",
            "Test Accuracy: 92.64\n",
            "Epoch:  139\n",
            "Train Accuracy: 91.89\n",
            "Test Accuracy: 92.72\n",
            "Epoch:  140\n",
            "Train Accuracy: 91.83666666666667\n",
            "Test Accuracy: 92.67999999999999\n",
            "Epoch:  141\n",
            "Train Accuracy: 91.88666666666667\n",
            "Test Accuracy: 92.66\n",
            "Epoch:  142\n",
            "Train Accuracy: 91.71000000000001\n",
            "Test Accuracy: 92.7\n",
            "Epoch:  143\n",
            "Train Accuracy: 91.84666666666666\n",
            "Test Accuracy: 92.78\n",
            "Epoch:  144\n",
            "Train Accuracy: 91.83333333333333\n",
            "Test Accuracy: 92.7\n",
            "Epoch:  145\n",
            "Train Accuracy: 92.00666666666667\n",
            "Test Accuracy: 92.7\n",
            "Epoch:  146\n",
            "Train Accuracy: 91.88333333333333\n",
            "Test Accuracy: 92.67999999999999\n",
            "Epoch:  147\n",
            "Train Accuracy: 91.85333333333332\n",
            "Test Accuracy: 92.74\n",
            "Epoch:  148\n",
            "Train Accuracy: 91.86999999999999\n",
            "Test Accuracy: 92.64\n",
            "Epoch:  149\n",
            "Train Accuracy: 91.94\n",
            "Test Accuracy: 92.47999999999999\n",
            "Epoch:  150\n",
            "Train Accuracy: 91.73666666666666\n",
            "Test Accuracy: 92.5\n",
            "Epoch:  151\n",
            "Train Accuracy: 91.91333333333334\n",
            "Test Accuracy: 92.74\n",
            "Epoch:  152\n",
            "Train Accuracy: 91.96\n",
            "Test Accuracy: 92.72\n",
            "Epoch:  153\n",
            "Train Accuracy: 91.79\n",
            "Test Accuracy: 92.7\n",
            "Epoch:  154\n",
            "Train Accuracy: 91.87666666666667\n",
            "Test Accuracy: 92.60000000000001\n",
            "Epoch:  155\n",
            "Train Accuracy: 91.82666666666667\n",
            "Test Accuracy: 92.72\n",
            "Epoch:  156\n",
            "Train Accuracy: 91.83\n",
            "Test Accuracy: 92.72\n",
            "Epoch:  157\n",
            "Train Accuracy: 91.97666666666666\n",
            "Test Accuracy: 92.67999999999999\n",
            "Epoch:  158\n",
            "Train Accuracy: 91.85\n",
            "Test Accuracy: 92.7\n",
            "Epoch:  159\n",
            "Train Accuracy: 92.0\n",
            "Test Accuracy: 92.67999999999999\n",
            "Epoch:  160\n",
            "Train Accuracy: 91.86333333333333\n",
            "Test Accuracy: 92.66\n",
            "Epoch:  161\n",
            "Train Accuracy: 92.04333333333334\n",
            "Test Accuracy: 92.62\n",
            "Epoch:  162\n",
            "Train Accuracy: 91.89333333333335\n",
            "Test Accuracy: 92.66\n",
            "Epoch:  163\n",
            "Train Accuracy: 91.95333333333333\n",
            "Test Accuracy: 92.72\n",
            "Epoch:  164\n",
            "Train Accuracy: 91.99333333333334\n",
            "Test Accuracy: 92.84\n",
            "Epoch:  165\n",
            "Train Accuracy: 91.78666666666668\n",
            "Test Accuracy: 92.78\n",
            "Epoch:  166\n",
            "Train Accuracy: 91.86999999999999\n",
            "Test Accuracy: 92.62\n",
            "Epoch:  167\n",
            "Train Accuracy: 91.94666666666666\n",
            "Test Accuracy: 92.67999999999999\n",
            "Epoch:  168\n",
            "Train Accuracy: 92.06666666666666\n",
            "Test Accuracy: 92.75999999999999\n",
            "Epoch:  169\n",
            "Train Accuracy: 91.94333333333333\n",
            "Test Accuracy: 92.60000000000001\n",
            "Epoch:  170\n",
            "Train Accuracy: 91.76666666666667\n",
            "Test Accuracy: 92.74\n",
            "Epoch:  171\n",
            "Train Accuracy: 91.88666666666667\n",
            "Test Accuracy: 92.60000000000001\n",
            "Epoch:  172\n",
            "Train Accuracy: 91.90333333333334\n",
            "Test Accuracy: 92.64\n",
            "Epoch:  173\n",
            "Train Accuracy: 91.88333333333333\n",
            "Test Accuracy: 92.56\n",
            "Epoch:  174\n",
            "Train Accuracy: 91.97666666666666\n",
            "Test Accuracy: 92.75999999999999\n",
            "Epoch:  175\n",
            "Train Accuracy: 91.82000000000001\n",
            "Test Accuracy: 92.75999999999999\n",
            "Epoch:  176\n",
            "Train Accuracy: 91.94\n",
            "Test Accuracy: 92.58\n",
            "Epoch:  177\n",
            "Train Accuracy: 91.97666666666666\n",
            "Test Accuracy: 92.74\n",
            "Epoch:  178\n",
            "Train Accuracy: 92.00333333333333\n",
            "Test Accuracy: 92.72\n",
            "Epoch:  179\n",
            "Train Accuracy: 91.92\n",
            "Test Accuracy: 92.7\n",
            "Epoch:  180\n",
            "Train Accuracy: 92.06666666666666\n",
            "Test Accuracy: 92.78\n",
            "Epoch:  181\n",
            "Train Accuracy: 91.97666666666666\n",
            "Test Accuracy: 92.78\n",
            "Epoch:  182\n",
            "Train Accuracy: 92.09333333333333\n",
            "Test Accuracy: 92.66\n",
            "Epoch:  183\n",
            "Train Accuracy: 91.69666666666667\n",
            "Test Accuracy: 92.62\n",
            "Epoch:  184\n",
            "Train Accuracy: 91.93666666666667\n",
            "Test Accuracy: 92.72\n",
            "Epoch:  185\n",
            "Train Accuracy: 91.99333333333334\n",
            "Test Accuracy: 92.75999999999999\n",
            "Epoch:  186\n",
            "Train Accuracy: 91.95333333333333\n",
            "Test Accuracy: 92.66\n",
            "Epoch:  187\n",
            "Train Accuracy: 91.90333333333334\n",
            "Test Accuracy: 92.67999999999999\n",
            "Epoch:  188\n",
            "Train Accuracy: 91.92333333333333\n",
            "Test Accuracy: 92.75999999999999\n",
            "Epoch:  189\n",
            "Train Accuracy: 91.91333333333334\n",
            "Test Accuracy: 92.67999999999999\n",
            "Epoch:  190\n",
            "Train Accuracy: 91.90333333333334\n",
            "Test Accuracy: 92.64\n",
            "Epoch:  191\n",
            "Train Accuracy: 92.05\n",
            "Test Accuracy: 92.74\n",
            "Epoch:  192\n",
            "Train Accuracy: 91.98333333333333\n",
            "Test Accuracy: 92.7\n",
            "Epoch:  193\n",
            "Train Accuracy: 92.00333333333333\n",
            "Test Accuracy: 92.66\n",
            "Epoch:  194\n",
            "Train Accuracy: 91.96333333333332\n",
            "Test Accuracy: 92.82000000000001\n",
            "Epoch:  195\n",
            "Train Accuracy: 91.75999999999999\n",
            "Test Accuracy: 92.74\n",
            "Epoch:  196\n",
            "Train Accuracy: 92.17666666666666\n",
            "Test Accuracy: 92.74\n",
            "Epoch:  197\n",
            "Train Accuracy: 91.82000000000001\n",
            "Test Accuracy: 92.7\n",
            "Epoch:  198\n",
            "Train Accuracy: 91.83666666666667\n",
            "Test Accuracy: 92.7\n",
            "Epoch:  199\n",
            "Train Accuracy: 92.15666666666667\n",
            "Test Accuracy: 92.67999999999999\n",
            "Epoch:  200\n",
            "Train Accuracy: 91.79666666666667\n",
            "Test Accuracy: 92.78\n"
          ]
        }
      ],
      "source": [
        "device = \"cuda\" if torch.cuda.is_available() else \"cpu\"\n",
        "\n",
        "batch_size = 32\n",
        "num_epochs = 200\n",
        "learning_rate = 1e-4\n",
        "num_classes = 10\n",
        "num_features = 784\n",
        "train50Len = 30000\n",
        "val50Len = 5000\n",
        "\n",
        "\n",
        "device = \"cuda\" if torch.cuda.is_available() else \"cpu\"\n",
        "transform = transforms.Compose(\n",
        "[transforms.ToTensor(),\n",
        "]\n",
        ")\n",
        "\n",
        "train = tv.datasets.MNIST('../data',transform = transform, download=True,train=True)\n",
        "val = tv.datasets.MNIST('../data',transform = transform, download=True,train=False)\n",
        "\n",
        "\n",
        "\n",
        "My_list = [*range(0, 60000, 1)]\n",
        "My_list1 = [*range(0, 10000, 1)]\n",
        "\n",
        "strain = torch.utils.data.Subset(train, random.sample(My_list, train50Len))\n",
        "sval = torch.utils.data.Subset(val, random.sample(My_list1, val50Len))\n",
        "\n",
        "\n",
        "\n",
        "netlayers = Network(num_features, num_classes,dropout=0.25)\n",
        "if torch.cuda.is_available():\n",
        "    netlayers.to(device)\n",
        "\n",
        "loss_function = nn.NLLLoss()\n",
        "optimizer = torch.optim.Adam(netlayers.parameters(), lr=learning_rate)\n",
        "\n",
        "\n",
        "\n",
        "train_loader = torch.utils.data.DataLoader(strain, batch_size=batch_size,\n",
        "                                            shuffle=True)\n",
        "val_loader = torch.utils.data.DataLoader(sval, batch_size=batch_size,\n",
        "                                            shuffle=True)\n",
        "\n",
        "loss = []\n",
        "valloss = []\n",
        "trainingacc = []\n",
        "validationacc = []\n",
        "AllBatchTrainLoss = []\n",
        "AllBatchValLoss = []\n",
        "batchtrainingacc = []\n",
        "batchvalidationacc = []\n",
        "\n",
        "for epoch in range(num_epochs):\n",
        "    print(\"Epoch: \",epoch+1 )\n",
        "    train_accuracy = 0\n",
        "    test_accuracy = 0\n",
        "    epochtrainloss = []\n",
        "    epochtestloss = []\n",
        "    netlayers.train()\n",
        "    for i ,(images,labels) in enumerate(train_loader):\n",
        "            images = images.view(-1,28*28).to(device) \n",
        "            labels = labels.to(device)\n",
        "            optimizer.zero_grad()\n",
        "            outputs = netlayers(images)\n",
        "#           print(outputs.shape,\" \",labels.shape)\n",
        "            Tloss = loss_function(outputs, labels)\n",
        "            epochtrainloss.append(Tloss.cpu().item())\n",
        "            AllBatchTrainLoss.append(Tloss.cpu().item())\n",
        "            _, predicted = torch.max(outputs,1)     \n",
        "            train_accuracy += np.count_nonzero(predicted.cpu().data.numpy() == labels.cpu().data.numpy())\n",
        "            batchtrainingacc.append((np.count_nonzero(predicted.cpu().data.numpy() == labels.cpu().data.numpy())) * 100)\n",
        "            Tloss.backward()\n",
        "            optimizer.step()   \n",
        "    loss.append(np.mean(epochtrainloss))\n",
        "    trainingacc.append((train_accuracy/train50Len) *100)\n",
        "    print(\"Train Accuracy:\",(train_accuracy/train50Len) *100)\n",
        "    netlayers.eval()\n",
        "    for i ,(images,labels) in enumerate(val_loader):\n",
        "            images = images.view(-1,28*28).to(device)\n",
        "            labels = labels.to(device)\n",
        "            outputs = netlayers(images)\n",
        "            validloss = loss_function(outputs, labels)\n",
        "            epochtestloss.append(validloss.cpu().item())\n",
        "            AllBatchValLoss.append(validloss.cpu().item())\n",
        "            _, predicted = torch.max(outputs,1)     \n",
        "            test_accuracy += np.count_nonzero(predicted.cpu().data.numpy() == labels.cpu().data.numpy())\n",
        "            batchvalidationacc.append((np.count_nonzero(predicted.cpu().data.numpy() == labels.cpu().data.numpy())) * 100)\n",
        "    valloss.append(np.mean(epochtestloss))\n",
        "    validationacc.append((test_accuracy/val50Len) *100)\n",
        "    print(\"Test Accuracy:\",(test_accuracy/val50Len) *100)"
      ],
      "id": "Qh6TJnGCmk5a"
    },
    {
      "cell_type": "markdown",
      "source": [
        "# **Training/Validation Epochwise Loss:**"
      ],
      "metadata": {
        "id": "1112I5DSn3RW"
      },
      "id": "1112I5DSn3RW"
    },
    {
      "cell_type": "code",
      "execution_count": 13,
      "id": "86897f61",
      "metadata": {
        "id": "86897f61",
        "colab": {
          "base_uri": "https://localhost:8080/",
          "height": 313
        },
        "outputId": "4a16cfdb-b5d3-4bf6-d575-cbe71575afc2"
      },
      "outputs": [
        {
          "output_type": "execute_result",
          "data": {
            "text/plain": [
              "Text(0, 0.5, 'Loss')"
            ]
          },
          "metadata": {},
          "execution_count": 13
        },
        {
          "output_type": "display_data",
          "data": {
            "image/png": "[encoded data removed]",
            "text/plain": [
              "<Figure size 432x288 with 1 Axes>"
            ]
          },
          "metadata": {
            "needs_background": "light"
          }
        }
      ],
      "source": [
        "import matplotlib.pyplot as plt\n",
        "plt.title(\"Training/Validation Loss:\")\n",
        "plt.plot(loss,color = 'r', label=\"Training Loss\")\n",
        "plt.plot(valloss,label=\"validation Loss\")\n",
        "leg = plt.legend(loc='upper right')\n",
        "plt.xlabel(\"Epochs\")\n",
        "plt.ylabel(\"Loss\")"
      ]
    },
    {
      "cell_type": "markdown",
      "source": [
        "# **Training/Validation Epochwise Accuracy:**"
      ],
      "metadata": {
        "id": "iu9u7MZ8n-cd"
      },
      "id": "iu9u7MZ8n-cd"
    },
    {
      "cell_type": "code",
      "execution_count": 14,
      "id": "f8f7f0e7",
      "metadata": {
        "id": "f8f7f0e7",
        "colab": {
          "base_uri": "https://localhost:8080/",
          "height": 332
        },
        "outputId": "85a7e36b-33e0-48dd-ac17-ac888f373997"
      },
      "outputs": [
        {
          "output_type": "stream",
          "name": "stdout",
          "text": [
            "92.17666666666666\n",
            "92.84\n"
          ]
        },
        {
          "output_type": "display_data",
          "data": {
            "image/png": "[encoded data removed]",
            "text/plain": [
              "<Figure size 432x288 with 1 Axes>"
            ]
          },
          "metadata": {
            "needs_background": "light"
          }
        }
      ],
      "source": [
        "plt.title(\"Training/validation Accuracy\")\n",
        "plt.plot(trainingacc,color = 'r',label=\"Training Acc\")\n",
        "plt.plot(validationacc,label=\"Validation Acc\")\n",
        "leg = plt.legend(loc='lower right')\n",
        "plt.xlabel(\"Epochs\")\n",
        "plt.ylabel(\"Accuracy%\")\n",
        "print(max(trainingacc))\n",
        "print(max(validationacc))"
      ]
    },
    {
      "cell_type": "markdown",
      "source": [
        "# **Training/Validation Epochwise Error:**"
      ],
      "metadata": {
        "id": "iDRj2mWmoGeF"
      },
      "id": "iDRj2mWmoGeF"
    },
    {
      "cell_type": "code",
      "source": [
        "plt.title(\"Training/validation Error\")\n",
        "plt.plot(100-np.array(trainingacc),color = 'r',label=\"Training Error\")\n",
        "plt.plot(100-np.array(validationacc),label=\"Validation Error\")\n",
        "leg = plt.legend(loc='upper right')\n",
        "plt.xlabel(\"Epochs\")\n",
        "plt.ylabel(\"Training Error%\")\n",
        "print(\"Final Train accuracy: \",max(trainingacc))\n",
        "print(\"Final Test accuracy: \", max(validationacc))"
      ],
      "metadata": {
        "id": "X6qzNkGnjIAF",
        "colab": {
          "base_uri": "https://localhost:8080/",
          "height": 332
        },
        "outputId": "31399beb-fdcd-49a7-c9f2-43bfb18f16d6"
      },
      "execution_count": 15,
      "outputs": [
        {
          "output_type": "stream",
          "name": "stdout",
          "text": [
            "Final Train accuracy:  92.17666666666666\n",
            "Final Test accuracy:  92.84\n"
          ]
        },
        {
          "output_type": "display_data",
          "data": {
            "image/png": "[encoded data removed]",
            "text/plain": [
              "<Figure size 432x288 with 1 Axes>"
            ]
          },
          "metadata": {
            "needs_background": "light"
          }
        }
      ],
      "id": "X6qzNkGnjIAF"
    },
    {
      "cell_type": "markdown",
      "source": [
        "# **Training/Validation Batchwise Error:**"
      ],
      "metadata": {
        "id": "81NpaJyzoNIW"
      },
      "id": "81NpaJyzoNIW"
    },
    {
      "cell_type": "code",
      "source": [
        "plt.title(\"Training/validation Batchwise Error\")\n",
        "plt.plot(100-(np.array(batchtrainingacc)/batch_size), color = 'r',label=\"Training Error\")\n",
        "plt.plot(100-(np.array(batchvalidationacc)/batch_size), color = 'b',label=\"Validation Error\")\n",
        "leg = plt.legend(loc='upper right')\n",
        "plt.xlabel(\"Epochs\")\n",
        "plt.ylabel(\"Error%\")\n"
      ],
      "metadata": {
        "id": "TJblVDs0Rdds",
        "colab": {
          "base_uri": "https://localhost:8080/",
          "height": 313
        },
        "outputId": "95815a88-ec30-44d8-c09e-02cbab129901"
      },
      "id": "TJblVDs0Rdds",
      "execution_count": 16,
      "outputs": [
        {
          "output_type": "execute_result",
          "data": {
            "text/plain": [
              "Text(0, 0.5, 'Error%')"
            ]
          },
          "metadata": {},
          "execution_count": 16
        },
        {
          "output_type": "display_data",
          "data": {
            "image/png": "[encoded data removed]",
            "text/plain": [
              "<Figure size 432x288 with 1 Axes>"
            ]
          },
          "metadata": {
            "needs_background": "light"
          }
        }
      ]
    },
    {
      "cell_type": "markdown",
      "source": [
        "# **Training/Validation Batchwise Accuracy:**"
      ],
      "metadata": {
        "id": "ZOYb8R4IoRSr"
      },
      "id": "ZOYb8R4IoRSr"
    },
    {
      "cell_type": "code",
      "source": [
        "plt.title(\"Training/validation Batchwise Acc\")\n",
        "plt.plot((np.array(batchtrainingacc)/batch_size), color = 'r',label=\"Training Acc\")\n",
        "plt.plot((np.array(batchvalidationacc)/batch_size), color = 'b',label=\"Validation Acc\")\n",
        "leg = plt.legend(loc='lower right')\n",
        "plt.xlabel(\"Epochs\")\n",
        "plt.ylabel(\"Acc%\")"
      ],
      "metadata": {
        "id": "5Mp-u5wNTrl-",
        "colab": {
          "base_uri": "https://localhost:8080/",
          "height": 313
        },
        "outputId": "75e503d3-e84e-436d-90cc-a6ddb0904fd1"
      },
      "id": "5Mp-u5wNTrl-",
      "execution_count": 17,
      "outputs": [
        {
          "output_type": "execute_result",
          "data": {
            "text/plain": [
              "Text(0, 0.5, 'Acc%')"
            ]
          },
          "metadata": {},
          "execution_count": 17
        },
        {
          "output_type": "display_data",
          "data": {
            "image/png": "[encoded data removed]",
            "text/plain": [
              "<Figure size 432x288 with 1 Axes>"
            ]
          },
          "metadata": {
            "needs_background": "light"
          }
        }
      ]
    },
    {
      "cell_type": "markdown",
      "source": [
        "# **Training/Validation Batchwise Loss:**"
      ],
      "metadata": {
        "id": "4nL4SzIjoTxx"
      },
      "id": "4nL4SzIjoTxx"
    },
    {
      "cell_type": "code",
      "source": [
        "import matplotlib.pyplot as plt\n",
        "plt.title(\"Batchwise Loss:\")\n",
        "plt.plot(AllBatchTrainLoss,color = 'r', label=\"Training Loss\")\n",
        "plt.plot(AllBatchValLoss,color = 'b', label=\"Testing Loss\")\n",
        "leg = plt.legend(loc='upper right')\n",
        "plt.xlabel(\"Batches\")\n",
        "plt.ylabel(\"Loss\")"
      ],
      "metadata": {
        "id": "L4kxz-vR57pR",
        "colab": {
          "base_uri": "https://localhost:8080/",
          "height": 313
        },
        "outputId": "eba6d813-7fb9-4c93-8af7-b0fd47261adb"
      },
      "id": "L4kxz-vR57pR",
      "execution_count": 18,
      "outputs": [
        {
          "output_type": "execute_result",
          "data": {
            "text/plain": [
              "Text(0, 0.5, 'Loss')"
            ]
          },
          "metadata": {},
          "execution_count": 18
        },
        {
          "output_type": "display_data",
          "data": {
            "image/png": "[encoded data removed]",
            "text/plain": [
              "<Figure size 432x288 with 1 Axes>"
            ]
          },
          "metadata": {
            "needs_background": "light"
          }
        }
      ]
    },
    {
      "cell_type": "code",
      "source": [
        ""
      ],
      "metadata": {
        "id": "FYoHp-LOyw3X"
      },
      "id": "FYoHp-LOyw3X",
      "execution_count": 18,
      "outputs": []
    }
  ],
  "metadata": {
    "kernelspec": {
      "display_name": "Python 3 (ipykernel)",
      "language": "python",
      "name": "python3"
    },
    "language_info": {
      "codemirror_mode": {
        "name": "ipython",
        "version": 3
      },
      "file_extension": ".py",
      "mimetype": "text/x-python",
      "name": "python",
      "nbconvert_exporter": "python",
      "pygments_lexer": "ipython3",
      "version": "3.8.5"
    },
    "colab": {
      "name": "Problem 2-Adam.ipynb",
      "provenance": [],
      "collapsed_sections": []
    }
  },
  "nbformat": 4,
  "nbformat_minor": 5
}